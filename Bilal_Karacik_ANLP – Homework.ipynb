{
 "cells": [
  {
   "cell_type": "code",
   "execution_count": 1,
   "id": "cc048756-1dcd-4a7d-8b9b-1d6b4c1f592e",
   "metadata": {},
   "outputs": [],
   "source": [
    "import pandas as pd\n",
    "from bs4 import BeautifulSoup\n",
    "from tqdm import tqdm\n",
    "tqdm.pandas()\n",
    "import numpy as np\n",
    "import nltk\n",
    "from nltk.tokenize import sent_tokenize\n",
    "from nltk import tokenize\n",
    "\n",
    "import numpy as np\n",
    "import pandas as pd\n",
    "import matplotlib.pyplot as plt\n",
    "import seaborn as sns\n",
    "import string\n",
    "import re\n",
    "import nltk\n",
    "\n",
    "from tqdm import trange\n",
    "from nltk import tokenize\n",
    "from nltk.corpus import stopwords\n",
    "from nltk.stem import WordNetLemmatizer\n",
    "from nltk.probability import FreqDist\n",
    "from collections import Counter"
   ]
  },
  {
   "cell_type": "code",
   "execution_count": 2,
   "id": "3857876a-f0ff-4271-8853-979630d21bd6",
   "metadata": {},
   "outputs": [],
   "source": [
    "data = pd.read_csv(\"Jobs_Law_Sub.csv\")\n",
    "df = data.copy()"
   ]
  },
  {
   "cell_type": "code",
   "execution_count": 3,
   "id": "530d0645-b30c-4802-9046-2604a9fbc711",
   "metadata": {},
   "outputs": [
    {
     "data": {
      "text/html": [
       "<div>\n",
       "<style scoped>\n",
       "    .dataframe tbody tr th:only-of-type {\n",
       "        vertical-align: middle;\n",
       "    }\n",
       "\n",
       "    .dataframe tbody tr th {\n",
       "        vertical-align: top;\n",
       "    }\n",
       "\n",
       "    .dataframe thead th {\n",
       "        text-align: right;\n",
       "    }\n",
       "</style>\n",
       "<table border=\"1\" class=\"dataframe\">\n",
       "  <thead>\n",
       "    <tr style=\"text-align: right;\">\n",
       "      <th></th>\n",
       "      <th>JobRefNo</th>\n",
       "      <th>DigerPozisyon</th>\n",
       "      <th>Qualifications</th>\n",
       "      <th>sub-classification</th>\n",
       "    </tr>\n",
       "  </thead>\n",
       "  <tbody>\n",
       "    <tr>\n",
       "      <th>0</th>\n",
       "      <td>3463993</td>\n",
       "      <td>Avukat</td>\n",
       "      <td>&lt;p&gt;GENEL NİTELİKLER VE İŞ TANIMI&lt;/p&gt;&lt;p&gt;Ünivers...</td>\n",
       "      <td>Avukatlık</td>\n",
       "    </tr>\n",
       "    <tr>\n",
       "      <th>1</th>\n",
       "      <td>3463712</td>\n",
       "      <td>Corporate Lawyer</td>\n",
       "      <td>&lt;p&gt;&lt;span&gt;&lt;span&gt;&lt;span&gt;GSI is looking to recruit...</td>\n",
       "      <td>Avukatlık</td>\n",
       "    </tr>\n",
       "    <tr>\n",
       "      <th>2</th>\n",
       "      <td>3462810</td>\n",
       "      <td>Avukat</td>\n",
       "      <td>&lt;p&gt;&lt;strong&gt;Genel Nitelikler Ve İş Tanımı&lt;/stro...</td>\n",
       "      <td>Avukatlık</td>\n",
       "    </tr>\n",
       "    <tr>\n",
       "      <th>3</th>\n",
       "      <td>3461644</td>\n",
       "      <td>Avukat Asistanı</td>\n",
       "      <td>&lt;p&gt;Şişli'de bulunan hukuk ofisimizde çalışmak ...</td>\n",
       "      <td>Avukatlık</td>\n",
       "    </tr>\n",
       "    <tr>\n",
       "      <th>4</th>\n",
       "      <td>3461014</td>\n",
       "      <td>Associate (Litigation )</td>\n",
       "      <td>&lt;p class=\"x_x_x_x_x_x_x_MsoNormal\"&gt;&lt;font style...</td>\n",
       "      <td>Avukatlık</td>\n",
       "    </tr>\n",
       "  </tbody>\n",
       "</table>\n",
       "</div>"
      ],
      "text/plain": [
       "   JobRefNo            DigerPozisyon  \\\n",
       "0   3463993                   Avukat   \n",
       "1   3463712         Corporate Lawyer   \n",
       "2   3462810                   Avukat   \n",
       "3   3461644          Avukat Asistanı   \n",
       "4   3461014  Associate (Litigation )   \n",
       "\n",
       "                                      Qualifications sub-classification  \n",
       "0  <p>GENEL NİTELİKLER VE İŞ TANIMI</p><p>Ünivers...          Avukatlık  \n",
       "1  <p><span><span><span>GSI is looking to recruit...          Avukatlık  \n",
       "2  <p><strong>Genel Nitelikler Ve İş Tanımı</stro...          Avukatlık  \n",
       "3  <p>Şişli'de bulunan hukuk ofisimizde çalışmak ...          Avukatlık  \n",
       "4  <p class=\"x_x_x_x_x_x_x_MsoNormal\"><font style...          Avukatlık  "
      ]
     },
     "execution_count": 3,
     "metadata": {},
     "output_type": "execute_result"
    }
   ],
   "source": [
    "df.head()"
   ]
  },
  {
   "cell_type": "code",
   "execution_count": 4,
   "id": "423050b9-5053-45da-8151-0bebd2fda318",
   "metadata": {},
   "outputs": [
    {
     "data": {
      "text/html": [
       "<div>\n",
       "<style scoped>\n",
       "    .dataframe tbody tr th:only-of-type {\n",
       "        vertical-align: middle;\n",
       "    }\n",
       "\n",
       "    .dataframe tbody tr th {\n",
       "        vertical-align: top;\n",
       "    }\n",
       "\n",
       "    .dataframe thead th {\n",
       "        text-align: right;\n",
       "    }\n",
       "</style>\n",
       "<table border=\"1\" class=\"dataframe\">\n",
       "  <thead>\n",
       "    <tr style=\"text-align: right;\">\n",
       "      <th></th>\n",
       "      <th>JobRefNo</th>\n",
       "      <th>DigerPozisyon</th>\n",
       "      <th>Qualifications</th>\n",
       "      <th>sub-classification</th>\n",
       "    </tr>\n",
       "  </thead>\n",
       "  <tbody>\n",
       "    <tr>\n",
       "      <th>2495</th>\n",
       "      <td>2811046</td>\n",
       "      <td>İcra Takip Elemanı (İşlemci)</td>\n",
       "      <td>&lt;p&gt;İstanbul&amp;nbsp;&lt;strong&gt;Avrupa&amp;nbsp;&lt;/strong&gt;...</td>\n",
       "      <td>İcra</td>\n",
       "    </tr>\n",
       "    <tr>\n",
       "      <th>2496</th>\n",
       "      <td>2811011</td>\n",
       "      <td>İcra Takip Elemanı</td>\n",
       "      <td>&lt;p&gt;&lt;span&gt;Küresel Hukuk Bürosu olarak, her yıl ...</td>\n",
       "      <td>İcra</td>\n",
       "    </tr>\n",
       "    <tr>\n",
       "      <th>2497</th>\n",
       "      <td>2810971</td>\n",
       "      <td>Assistant Legal Counsel</td>\n",
       "      <td>&lt;p&gt;&lt;span&gt;&lt;strong&gt;QUALIFICATIONS&lt;/strong&gt;&lt;/span...</td>\n",
       "      <td>Hukuk</td>\n",
       "    </tr>\n",
       "    <tr>\n",
       "      <th>2498</th>\n",
       "      <td>2810942</td>\n",
       "      <td>Regulatory Assistant Specialist</td>\n",
       "      <td>&lt;p&gt;&lt;span&gt;&lt;strong&gt;&lt;em&gt;Bilim Pharmaceuticals, wh...</td>\n",
       "      <td>Ruhsatlandırma</td>\n",
       "    </tr>\n",
       "    <tr>\n",
       "      <th>2499</th>\n",
       "      <td>2810771</td>\n",
       "      <td>Avukat</td>\n",
       "      <td>&lt;p&gt;&lt;br&gt;&lt;/p&gt;&lt;p&gt;&lt;strong&gt;&lt;span&gt;İŞ TANIMI :&lt;/span&gt;...</td>\n",
       "      <td>Avukatlık</td>\n",
       "    </tr>\n",
       "  </tbody>\n",
       "</table>\n",
       "</div>"
      ],
      "text/plain": [
       "      JobRefNo                    DigerPozisyon  \\\n",
       "2495   2811046     İcra Takip Elemanı (İşlemci)   \n",
       "2496   2811011               İcra Takip Elemanı   \n",
       "2497   2810971          Assistant Legal Counsel   \n",
       "2498   2810942  Regulatory Assistant Specialist   \n",
       "2499   2810771                           Avukat   \n",
       "\n",
       "                                         Qualifications sub-classification  \n",
       "2495  <p>İstanbul&nbsp;<strong>Avrupa&nbsp;</strong>...               İcra  \n",
       "2496  <p><span>Küresel Hukuk Bürosu olarak, her yıl ...               İcra  \n",
       "2497  <p><span><strong>QUALIFICATIONS</strong></span...              Hukuk  \n",
       "2498  <p><span><strong><em>Bilim Pharmaceuticals, wh...     Ruhsatlandırma  \n",
       "2499  <p><br></p><p><strong><span>İŞ TANIMI :</span>...          Avukatlık  "
      ]
     },
     "execution_count": 4,
     "metadata": {},
     "output_type": "execute_result"
    }
   ],
   "source": [
    "df.tail()"
   ]
  },
  {
   "cell_type": "code",
   "execution_count": 5,
   "id": "419817f4-37d7-4b16-9c39-e83cbffdc858",
   "metadata": {},
   "outputs": [
    {
     "name": "stdout",
     "output_type": "stream",
     "text": [
      "<class 'pandas.core.frame.DataFrame'>\n",
      "RangeIndex: 2500 entries, 0 to 2499\n",
      "Data columns (total 4 columns):\n",
      " #   Column              Non-Null Count  Dtype \n",
      "---  ------              --------------  ----- \n",
      " 0   JobRefNo            2500 non-null   int64 \n",
      " 1   DigerPozisyon       2500 non-null   object\n",
      " 2   Qualifications      2500 non-null   object\n",
      " 3   sub-classification  2500 non-null   object\n",
      "dtypes: int64(1), object(3)\n",
      "memory usage: 78.2+ KB\n"
     ]
    }
   ],
   "source": [
    "df.info()"
   ]
  },
  {
   "cell_type": "code",
   "execution_count": 6,
   "id": "75620ec1-4668-4e85-8deb-ee8e497834b2",
   "metadata": {},
   "outputs": [
    {
     "name": "stdout",
     "output_type": "stream",
     "text": [
      "Number of Classification=> 14\n",
      "Number of DigerPozisyon=> 589\n"
     ]
    }
   ],
   "source": [
    "print('Number of Classification=>',len(data['sub-classification'].unique()))\n",
    "print('Number of DigerPozisyon=>',len(data['DigerPozisyon'].unique()))"
   ]
  },
  {
   "cell_type": "code",
   "execution_count": 7,
   "id": "e2d33f7a-c4b1-491b-b355-b83c425926e6",
   "metadata": {},
   "outputs": [],
   "source": [
    "def CleanHtml(text):\n",
    "    return BeautifulSoup(text).getText(' ') "
   ]
  },
  {
   "cell_type": "code",
   "execution_count": 8,
   "id": "2669d043-7d46-4420-9d99-78562ac2be4b",
   "metadata": {},
   "outputs": [
    {
     "data": {
      "text/plain": [
       "'Genel Nitelikler Ve İş Tanımı İzmir’deki hukuk büromuzda çalışmak üzere, \\xa0özel hukuk (Özellikle Borçlar Hukuku ve Ticaret Hukuku) alanlarında aktif şekilde en az\\xa02\\xa0yıl çalışmış, dava süreçlerine ve kurumsal süreçlere hakim, sözleşmelerin incelenmesi, dava takibi yapılması, kurumsal dokümanların hazırlanması konusunda deneyimli avukat aranmaktadır. \\xa0 Adayda Aranan Özellikler Üniversitelerin hukuk fakültelerinden mezun, MS Office, Mevzuat Programları ve UYAP’ı iyi düzeyde kullanabilen, Sözlü ve yazılı iletişim becerisi yüksek, Erkek adaylar için askerlik görevini tamamlamış.'"
      ]
     },
     "execution_count": 8,
     "metadata": {},
     "output_type": "execute_result"
    }
   ],
   "source": [
    "CleanHtml(BeautifulSoup(df.iloc[2]['Qualifications']).get_text(\" \"))"
   ]
  },
  {
   "cell_type": "code",
   "execution_count": 9,
   "id": "b4e35e93-9c3c-4fa7-98cc-5c212abedcbd",
   "metadata": {},
   "outputs": [],
   "source": [
    "metin = 'Genel Nitelikler Ve İş Tanımı İzmir’deki hukuk büromuzda çalışmak üzere, özel hukuk (Özellikle Borçlar Hukuku ve Ticaret Hukuku) alanlarında aktif şekilde en az 2 yıl çalışmış, dava süreçlerine ve kurumsal süreçlere hakim, sözleşmelerin incelenmesi, dava takibi yapılması, kurumsal dokümanların hazırlanması konusunda deneyimli avukat aranmaktadır. Adayda Aranan Özellikler Üniversitelerin hukuk fakültelerinden mezun, MS Office, Mevzuat Programları ve UYAP’ı iyi düzeyde kullanabilen, Sözlü ve yazılı iletişim becerisi yüksek, Erkek adaylar için askerlik görevini tamamlamış.'\n",
    "\n",
    "metin = metin.encode('utf-8').decode('utf-8')\n"
   ]
  },
  {
   "cell_type": "code",
   "execution_count": 10,
   "id": "90ec9d59-40e9-47cb-bd3c-bd6903a44893",
   "metadata": {},
   "outputs": [],
   "source": [
    "import re\n",
    "\n",
    "metin = re.sub('\\s+', ' ', metin)"
   ]
  },
  {
   "cell_type": "code",
   "execution_count": 11,
   "id": "80bef6ce-b0d3-4b06-a6af-6111d5bdd609",
   "metadata": {},
   "outputs": [
    {
     "data": {
      "text/plain": [
       "'Genel Nitelikler Ve İş Tanımı İzmir’deki hukuk büromuzda çalışmak üzere, özel hukuk (Özellikle Borçlar Hukuku ve Ticaret Hukuku) alanlarında aktif şekilde en az 2 yıl çalışmış, dava süreçlerine ve kurumsal süreçlere hakim, sözleşmelerin incelenmesi, dava takibi yapılması, kurumsal dokümanların hazırlanması konusunda deneyimli avukat aranmaktadır. Adayda Aranan Özellikler Üniversitelerin hukuk fakültelerinden mezun, MS Office, Mevzuat Programları ve UYAP’ı iyi düzeyde kullanabilen, Sözlü ve yazılı iletişim becerisi yüksek, Erkek adaylar için askerlik görevini tamamlamış.'"
      ]
     },
     "execution_count": 11,
     "metadata": {},
     "output_type": "execute_result"
    }
   ],
   "source": [
    "metin"
   ]
  },
  {
   "cell_type": "code",
   "execution_count": 12,
   "id": "c2ecf55d-ed71-4bcc-9ae5-5fa059ce31b4",
   "metadata": {},
   "outputs": [
    {
     "name": "stderr",
     "output_type": "stream",
     "text": [
      "100%|██████████| 2500/2500 [00:05<00:00, 443.18it/s]\n"
     ]
    }
   ],
   "source": [
    "df['Qualifications_HtmlFree'] = data.progress_apply(lambda x: CleanHtml(x['Qualifications']),axis=1)\n"
   ]
  },
  {
   "cell_type": "code",
   "execution_count": 13,
   "id": "f2cd1ea2-1202-4c24-8981-896a6cf61f6d",
   "metadata": {},
   "outputs": [
    {
     "data": {
      "text/html": [
       "<div>\n",
       "<style scoped>\n",
       "    .dataframe tbody tr th:only-of-type {\n",
       "        vertical-align: middle;\n",
       "    }\n",
       "\n",
       "    .dataframe tbody tr th {\n",
       "        vertical-align: top;\n",
       "    }\n",
       "\n",
       "    .dataframe thead th {\n",
       "        text-align: right;\n",
       "    }\n",
       "</style>\n",
       "<table border=\"1\" class=\"dataframe\">\n",
       "  <thead>\n",
       "    <tr style=\"text-align: right;\">\n",
       "      <th></th>\n",
       "      <th>JobRefNo</th>\n",
       "      <th>DigerPozisyon</th>\n",
       "      <th>Qualifications</th>\n",
       "      <th>sub-classification</th>\n",
       "      <th>Qualifications_HtmlFree</th>\n",
       "    </tr>\n",
       "  </thead>\n",
       "  <tbody>\n",
       "    <tr>\n",
       "      <th>0</th>\n",
       "      <td>3463993</td>\n",
       "      <td>Avukat</td>\n",
       "      <td>&lt;p&gt;GENEL NİTELİKLER VE İŞ TANIMI&lt;/p&gt;&lt;p&gt;Ünivers...</td>\n",
       "      <td>Avukatlık</td>\n",
       "      <td>GENEL NİTELİKLER VE İŞ TANIMI Üniversitelerin ...</td>\n",
       "    </tr>\n",
       "    <tr>\n",
       "      <th>1</th>\n",
       "      <td>3463712</td>\n",
       "      <td>Corporate Lawyer</td>\n",
       "      <td>&lt;p&gt;&lt;span&gt;&lt;span&gt;&lt;span&gt;GSI is looking to recruit...</td>\n",
       "      <td>Avukatlık</td>\n",
       "      <td>GSI is looking to recruit an associate lawyer ...</td>\n",
       "    </tr>\n",
       "    <tr>\n",
       "      <th>2</th>\n",
       "      <td>3462810</td>\n",
       "      <td>Avukat</td>\n",
       "      <td>&lt;p&gt;&lt;strong&gt;Genel Nitelikler Ve İş Tanımı&lt;/stro...</td>\n",
       "      <td>Avukatlık</td>\n",
       "      <td>Genel Nitelikler Ve İş Tanımı İzmir’deki hukuk...</td>\n",
       "    </tr>\n",
       "    <tr>\n",
       "      <th>3</th>\n",
       "      <td>3461644</td>\n",
       "      <td>Avukat Asistanı</td>\n",
       "      <td>&lt;p&gt;Şişli'de bulunan hukuk ofisimizde çalışmak ...</td>\n",
       "      <td>Avukatlık</td>\n",
       "      <td>Şişli'de bulunan hukuk ofisimizde çalışmak üze...</td>\n",
       "    </tr>\n",
       "    <tr>\n",
       "      <th>4</th>\n",
       "      <td>3461014</td>\n",
       "      <td>Associate (Litigation )</td>\n",
       "      <td>&lt;p class=\"x_x_x_x_x_x_x_MsoNormal\"&gt;&lt;font style...</td>\n",
       "      <td>Avukatlık</td>\n",
       "      <td>NAZALI Tax and Legal, finans alanında hukuki ç...</td>\n",
       "    </tr>\n",
       "  </tbody>\n",
       "</table>\n",
       "</div>"
      ],
      "text/plain": [
       "   JobRefNo            DigerPozisyon  \\\n",
       "0   3463993                   Avukat   \n",
       "1   3463712         Corporate Lawyer   \n",
       "2   3462810                   Avukat   \n",
       "3   3461644          Avukat Asistanı   \n",
       "4   3461014  Associate (Litigation )   \n",
       "\n",
       "                                      Qualifications sub-classification  \\\n",
       "0  <p>GENEL NİTELİKLER VE İŞ TANIMI</p><p>Ünivers...          Avukatlık   \n",
       "1  <p><span><span><span>GSI is looking to recruit...          Avukatlık   \n",
       "2  <p><strong>Genel Nitelikler Ve İş Tanımı</stro...          Avukatlık   \n",
       "3  <p>Şişli'de bulunan hukuk ofisimizde çalışmak ...          Avukatlık   \n",
       "4  <p class=\"x_x_x_x_x_x_x_MsoNormal\"><font style...          Avukatlık   \n",
       "\n",
       "                             Qualifications_HtmlFree  \n",
       "0  GENEL NİTELİKLER VE İŞ TANIMI Üniversitelerin ...  \n",
       "1  GSI is looking to recruit an associate lawyer ...  \n",
       "2  Genel Nitelikler Ve İş Tanımı İzmir’deki hukuk...  \n",
       "3  Şişli'de bulunan hukuk ofisimizde çalışmak üze...  \n",
       "4  NAZALI Tax and Legal, finans alanında hukuki ç...  "
      ]
     },
     "execution_count": 13,
     "metadata": {},
     "output_type": "execute_result"
    }
   ],
   "source": [
    "df.head()"
   ]
  },
  {
   "cell_type": "code",
   "execution_count": 14,
   "id": "9deed570-e347-4e3e-9544-385eb7302a87",
   "metadata": {},
   "outputs": [
    {
     "name": "stdout",
     "output_type": "stream",
     "text": [
      "Length of a sample job description: 682\n"
     ]
    }
   ],
   "source": [
    "lenght = len(df['Qualifications'][2])\n",
    "print(f'Length of a sample job description: {lenght}')"
   ]
  },
  {
   "cell_type": "code",
   "execution_count": 15,
   "id": "25a42087-1d8e-4e85-8165-001a800deeab",
   "metadata": {},
   "outputs": [
    {
     "data": {
      "text/html": [
       "<div>\n",
       "<style scoped>\n",
       "    .dataframe tbody tr th:only-of-type {\n",
       "        vertical-align: middle;\n",
       "    }\n",
       "\n",
       "    .dataframe tbody tr th {\n",
       "        vertical-align: top;\n",
       "    }\n",
       "\n",
       "    .dataframe thead th {\n",
       "        text-align: right;\n",
       "    }\n",
       "</style>\n",
       "<table border=\"1\" class=\"dataframe\">\n",
       "  <thead>\n",
       "    <tr style=\"text-align: right;\">\n",
       "      <th></th>\n",
       "      <th>JobRefNo</th>\n",
       "      <th>DigerPozisyon</th>\n",
       "      <th>Qualifications</th>\n",
       "      <th>sub-classification</th>\n",
       "      <th>Qualifications_HtmlFree</th>\n",
       "      <th>Length</th>\n",
       "    </tr>\n",
       "  </thead>\n",
       "  <tbody>\n",
       "    <tr>\n",
       "      <th>0</th>\n",
       "      <td>3463993</td>\n",
       "      <td>Avukat</td>\n",
       "      <td>&lt;p&gt;GENEL NİTELİKLER VE İŞ TANIMI&lt;/p&gt;&lt;p&gt;Ünivers...</td>\n",
       "      <td>Avukatlık</td>\n",
       "      <td>GENEL NİTELİKLER VE İŞ TANIMI Üniversitelerin ...</td>\n",
       "      <td>808</td>\n",
       "    </tr>\n",
       "    <tr>\n",
       "      <th>1</th>\n",
       "      <td>3463712</td>\n",
       "      <td>Corporate Lawyer</td>\n",
       "      <td>&lt;p&gt;&lt;span&gt;&lt;span&gt;&lt;span&gt;GSI is looking to recruit...</td>\n",
       "      <td>Avukatlık</td>\n",
       "      <td>GSI is looking to recruit an associate lawyer ...</td>\n",
       "      <td>1226</td>\n",
       "    </tr>\n",
       "    <tr>\n",
       "      <th>2</th>\n",
       "      <td>3462810</td>\n",
       "      <td>Avukat</td>\n",
       "      <td>&lt;p&gt;&lt;strong&gt;Genel Nitelikler Ve İş Tanımı&lt;/stro...</td>\n",
       "      <td>Avukatlık</td>\n",
       "      <td>Genel Nitelikler Ve İş Tanımı İzmir’deki hukuk...</td>\n",
       "      <td>579</td>\n",
       "    </tr>\n",
       "    <tr>\n",
       "      <th>3</th>\n",
       "      <td>3461644</td>\n",
       "      <td>Avukat Asistanı</td>\n",
       "      <td>&lt;p&gt;Şişli'de bulunan hukuk ofisimizde çalışmak ...</td>\n",
       "      <td>Avukatlık</td>\n",
       "      <td>Şişli'de bulunan hukuk ofisimizde çalışmak üze...</td>\n",
       "      <td>228</td>\n",
       "    </tr>\n",
       "    <tr>\n",
       "      <th>4</th>\n",
       "      <td>3461014</td>\n",
       "      <td>Associate (Litigation )</td>\n",
       "      <td>&lt;p class=\"x_x_x_x_x_x_x_MsoNormal\"&gt;&lt;font style...</td>\n",
       "      <td>Avukatlık</td>\n",
       "      <td>NAZALI Tax and Legal, finans alanında hukuki ç...</td>\n",
       "      <td>2306</td>\n",
       "    </tr>\n",
       "    <tr>\n",
       "      <th>5</th>\n",
       "      <td>3460989</td>\n",
       "      <td>Avukat</td>\n",
       "      <td>&lt;p&gt;&lt;br&gt;&lt;/p&gt;&lt;ul&gt;&lt;li&gt;Hukuk Fakültesinden mezun,&lt;...</td>\n",
       "      <td>Avukatlık</td>\n",
       "      <td>Hukuk Fakültesinden mezun, Şirket bünyesinde t...</td>\n",
       "      <td>1267</td>\n",
       "    </tr>\n",
       "    <tr>\n",
       "      <th>6</th>\n",
       "      <td>3460906</td>\n",
       "      <td>Avukat Çalışma Arkadaşları Aranmaktadır</td>\n",
       "      <td>&lt;p class=\"x_x_x_x_x_MsoNormal\" align=\"center\"&gt;...</td>\n",
       "      <td>Avukatlık</td>\n",
       "      <td>25 yıldan bu yana ulusal ve uluslararası yerli...</td>\n",
       "      <td>4818</td>\n",
       "    </tr>\n",
       "    <tr>\n",
       "      <th>7</th>\n",
       "      <td>3460830</td>\n",
       "      <td>Ticari Tahsilat Avukat</td>\n",
       "      <td>&lt;p class=\"x_MsoNormal\"&gt;&lt;u&gt;GELECEK VARLIK YÖNET...</td>\n",
       "      <td>Avukatlık</td>\n",
       "      <td>GELECEK VARLIK YÖNETİMİ , ulusal ve uluslarara...</td>\n",
       "      <td>2096</td>\n",
       "    </tr>\n",
       "    <tr>\n",
       "      <th>8</th>\n",
       "      <td>3460727</td>\n",
       "      <td>Yönetici İcra Avukatı</td>\n",
       "      <td>&lt;p&gt;PROJE YÖNETİCİSİ OLARAK İCRA BÖLÜMÜNDE GÖRE...</td>\n",
       "      <td>Avukatlık</td>\n",
       "      <td>PROJE YÖNETİCİSİ OLARAK İCRA BÖLÜMÜNDE GÖREV A...</td>\n",
       "      <td>134</td>\n",
       "    </tr>\n",
       "    <tr>\n",
       "      <th>9</th>\n",
       "      <td>3460636</td>\n",
       "      <td>Avukat Asistanı</td>\n",
       "      <td>&lt;p&gt;Şişli'de bulunan hukuk ofisimizde çalışmak ...</td>\n",
       "      <td>Avukatlık</td>\n",
       "      <td>Şişli'de bulunan hukuk ofisimizde çalışmak üze...</td>\n",
       "      <td>228</td>\n",
       "    </tr>\n",
       "  </tbody>\n",
       "</table>\n",
       "</div>"
      ],
      "text/plain": [
       "   JobRefNo                            DigerPozisyon  \\\n",
       "0   3463993                                   Avukat   \n",
       "1   3463712                         Corporate Lawyer   \n",
       "2   3462810                                   Avukat   \n",
       "3   3461644                          Avukat Asistanı   \n",
       "4   3461014                  Associate (Litigation )   \n",
       "5   3460989                                   Avukat   \n",
       "6   3460906  Avukat Çalışma Arkadaşları Aranmaktadır   \n",
       "7   3460830                   Ticari Tahsilat Avukat   \n",
       "8   3460727                    Yönetici İcra Avukatı   \n",
       "9   3460636                          Avukat Asistanı   \n",
       "\n",
       "                                      Qualifications sub-classification  \\\n",
       "0  <p>GENEL NİTELİKLER VE İŞ TANIMI</p><p>Ünivers...          Avukatlık   \n",
       "1  <p><span><span><span>GSI is looking to recruit...          Avukatlık   \n",
       "2  <p><strong>Genel Nitelikler Ve İş Tanımı</stro...          Avukatlık   \n",
       "3  <p>Şişli'de bulunan hukuk ofisimizde çalışmak ...          Avukatlık   \n",
       "4  <p class=\"x_x_x_x_x_x_x_MsoNormal\"><font style...          Avukatlık   \n",
       "5  <p><br></p><ul><li>Hukuk Fakültesinden mezun,<...          Avukatlık   \n",
       "6  <p class=\"x_x_x_x_x_MsoNormal\" align=\"center\">...          Avukatlık   \n",
       "7  <p class=\"x_MsoNormal\"><u>GELECEK VARLIK YÖNET...          Avukatlık   \n",
       "8  <p>PROJE YÖNETİCİSİ OLARAK İCRA BÖLÜMÜNDE GÖRE...          Avukatlık   \n",
       "9  <p>Şişli'de bulunan hukuk ofisimizde çalışmak ...          Avukatlık   \n",
       "\n",
       "                             Qualifications_HtmlFree  Length  \n",
       "0  GENEL NİTELİKLER VE İŞ TANIMI Üniversitelerin ...     808  \n",
       "1  GSI is looking to recruit an associate lawyer ...    1226  \n",
       "2  Genel Nitelikler Ve İş Tanımı İzmir’deki hukuk...     579  \n",
       "3  Şişli'de bulunan hukuk ofisimizde çalışmak üze...     228  \n",
       "4  NAZALI Tax and Legal, finans alanında hukuki ç...    2306  \n",
       "5  Hukuk Fakültesinden mezun, Şirket bünyesinde t...    1267  \n",
       "6  25 yıldan bu yana ulusal ve uluslararası yerli...    4818  \n",
       "7  GELECEK VARLIK YÖNETİMİ , ulusal ve uluslarara...    2096  \n",
       "8  PROJE YÖNETİCİSİ OLARAK İCRA BÖLÜMÜNDE GÖREV A...     134  \n",
       "9  Şişli'de bulunan hukuk ofisimizde çalışmak üze...     228  "
      ]
     },
     "execution_count": 15,
     "metadata": {},
     "output_type": "execute_result"
    }
   ],
   "source": [
    "df['Length'] = df['Qualifications_HtmlFree'].str.len()\n",
    "df.head(10)"
   ]
  },
  {
   "cell_type": "code",
   "execution_count": 16,
   "id": "0b491d19-116b-4dcc-bc5c-c925103f18d4",
   "metadata": {},
   "outputs": [
    {
     "name": "stdout",
     "output_type": "stream",
     "text": [
      "Word count in a sample review: 30\n"
     ]
    }
   ],
   "source": [
    "word_count = df['Qualifications_HtmlFree'][3].split()\n",
    "print(f'Word count in a sample review: {len(word_count)}')"
   ]
  },
  {
   "cell_type": "code",
   "execution_count": 17,
   "id": "07567601-3314-4592-895b-6754bc95d154",
   "metadata": {},
   "outputs": [
    {
     "name": "stderr",
     "output_type": "stream",
     "text": [
      "100%|██████████| 2500/2500 [00:00<00:00, 13773.04it/s]\n"
     ]
    },
    {
     "data": {
      "text/html": [
       "<div>\n",
       "<style scoped>\n",
       "    .dataframe tbody tr th:only-of-type {\n",
       "        vertical-align: middle;\n",
       "    }\n",
       "\n",
       "    .dataframe tbody tr th {\n",
       "        vertical-align: top;\n",
       "    }\n",
       "\n",
       "    .dataframe thead th {\n",
       "        text-align: right;\n",
       "    }\n",
       "</style>\n",
       "<table border=\"1\" class=\"dataframe\">\n",
       "  <thead>\n",
       "    <tr style=\"text-align: right;\">\n",
       "      <th></th>\n",
       "      <th>JobRefNo</th>\n",
       "      <th>DigerPozisyon</th>\n",
       "      <th>Qualifications</th>\n",
       "      <th>sub-classification</th>\n",
       "      <th>Qualifications_HtmlFree</th>\n",
       "      <th>Length</th>\n",
       "      <th>Word_count</th>\n",
       "    </tr>\n",
       "  </thead>\n",
       "  <tbody>\n",
       "    <tr>\n",
       "      <th>0</th>\n",
       "      <td>3463993</td>\n",
       "      <td>Avukat</td>\n",
       "      <td>&lt;p&gt;GENEL NİTELİKLER VE İŞ TANIMI&lt;/p&gt;&lt;p&gt;Ünivers...</td>\n",
       "      <td>Avukatlık</td>\n",
       "      <td>GENEL NİTELİKLER VE İŞ TANIMI Üniversitelerin ...</td>\n",
       "      <td>808</td>\n",
       "      <td>106</td>\n",
       "    </tr>\n",
       "    <tr>\n",
       "      <th>1</th>\n",
       "      <td>3463712</td>\n",
       "      <td>Corporate Lawyer</td>\n",
       "      <td>&lt;p&gt;&lt;span&gt;&lt;span&gt;&lt;span&gt;GSI is looking to recruit...</td>\n",
       "      <td>Avukatlık</td>\n",
       "      <td>GSI is looking to recruit an associate lawyer ...</td>\n",
       "      <td>1226</td>\n",
       "      <td>168</td>\n",
       "    </tr>\n",
       "    <tr>\n",
       "      <th>2</th>\n",
       "      <td>3462810</td>\n",
       "      <td>Avukat</td>\n",
       "      <td>&lt;p&gt;&lt;strong&gt;Genel Nitelikler Ve İş Tanımı&lt;/stro...</td>\n",
       "      <td>Avukatlık</td>\n",
       "      <td>Genel Nitelikler Ve İş Tanımı İzmir’deki hukuk...</td>\n",
       "      <td>579</td>\n",
       "      <td>72</td>\n",
       "    </tr>\n",
       "  </tbody>\n",
       "</table>\n",
       "</div>"
      ],
      "text/plain": [
       "   JobRefNo     DigerPozisyon  \\\n",
       "0   3463993            Avukat   \n",
       "1   3463712  Corporate Lawyer   \n",
       "2   3462810            Avukat   \n",
       "\n",
       "                                      Qualifications sub-classification  \\\n",
       "0  <p>GENEL NİTELİKLER VE İŞ TANIMI</p><p>Ünivers...          Avukatlık   \n",
       "1  <p><span><span><span>GSI is looking to recruit...          Avukatlık   \n",
       "2  <p><strong>Genel Nitelikler Ve İş Tanımı</stro...          Avukatlık   \n",
       "\n",
       "                             Qualifications_HtmlFree  Length  Word_count  \n",
       "0  GENEL NİTELİKLER VE İŞ TANIMI Üniversitelerin ...     808         106  \n",
       "1  GSI is looking to recruit an associate lawyer ...    1226         168  \n",
       "2  Genel Nitelikler Ve İş Tanımı İzmir’deki hukuk...     579          72  "
      ]
     },
     "execution_count": 17,
     "metadata": {},
     "output_type": "execute_result"
    }
   ],
   "source": [
    "def word_count(review):\n",
    "    review_list = review.split()\n",
    "    return len(review_list)\n",
    "\n",
    "df['Word_count'] = df['Qualifications_HtmlFree'].progress_apply(word_count)\n",
    "df.head(3)"
   ]
  },
  {
   "cell_type": "code",
   "execution_count": 18,
   "id": "0ae5f4c6-f2f5-457c-b212-62b79f7b3975",
   "metadata": {},
   "outputs": [
    {
     "data": {
      "text/html": [
       "<div>\n",
       "<style scoped>\n",
       "    .dataframe tbody tr th:only-of-type {\n",
       "        vertical-align: middle;\n",
       "    }\n",
       "\n",
       "    .dataframe tbody tr th {\n",
       "        vertical-align: top;\n",
       "    }\n",
       "\n",
       "    .dataframe thead th {\n",
       "        text-align: right;\n",
       "    }\n",
       "</style>\n",
       "<table border=\"1\" class=\"dataframe\">\n",
       "  <thead>\n",
       "    <tr style=\"text-align: right;\">\n",
       "      <th></th>\n",
       "      <th>JobRefNo</th>\n",
       "      <th>DigerPozisyon</th>\n",
       "      <th>Qualifications</th>\n",
       "      <th>sub-classification</th>\n",
       "      <th>Qualifications_HtmlFree</th>\n",
       "      <th>Length</th>\n",
       "      <th>Word_count</th>\n",
       "      <th>mean_word_length</th>\n",
       "    </tr>\n",
       "  </thead>\n",
       "  <tbody>\n",
       "    <tr>\n",
       "      <th>0</th>\n",
       "      <td>3463993</td>\n",
       "      <td>Avukat</td>\n",
       "      <td>&lt;p&gt;GENEL NİTELİKLER VE İŞ TANIMI&lt;/p&gt;&lt;p&gt;Ünivers...</td>\n",
       "      <td>Avukatlık</td>\n",
       "      <td>GENEL NİTELİKLER VE İŞ TANIMI Üniversitelerin ...</td>\n",
       "      <td>808</td>\n",
       "      <td>106</td>\n",
       "      <td>6.632075</td>\n",
       "    </tr>\n",
       "    <tr>\n",
       "      <th>1</th>\n",
       "      <td>3463712</td>\n",
       "      <td>Corporate Lawyer</td>\n",
       "      <td>&lt;p&gt;&lt;span&gt;&lt;span&gt;&lt;span&gt;GSI is looking to recruit...</td>\n",
       "      <td>Avukatlık</td>\n",
       "      <td>GSI is looking to recruit an associate lawyer ...</td>\n",
       "      <td>1226</td>\n",
       "      <td>168</td>\n",
       "      <td>6.202381</td>\n",
       "    </tr>\n",
       "    <tr>\n",
       "      <th>2</th>\n",
       "      <td>3462810</td>\n",
       "      <td>Avukat</td>\n",
       "      <td>&lt;p&gt;&lt;strong&gt;Genel Nitelikler Ve İş Tanımı&lt;/stro...</td>\n",
       "      <td>Avukatlık</td>\n",
       "      <td>Genel Nitelikler Ve İş Tanımı İzmir’deki hukuk...</td>\n",
       "      <td>579</td>\n",
       "      <td>72</td>\n",
       "      <td>7.013889</td>\n",
       "    </tr>\n",
       "  </tbody>\n",
       "</table>\n",
       "</div>"
      ],
      "text/plain": [
       "   JobRefNo     DigerPozisyon  \\\n",
       "0   3463993            Avukat   \n",
       "1   3463712  Corporate Lawyer   \n",
       "2   3462810            Avukat   \n",
       "\n",
       "                                      Qualifications sub-classification  \\\n",
       "0  <p>GENEL NİTELİKLER VE İŞ TANIMI</p><p>Ünivers...          Avukatlık   \n",
       "1  <p><span><span><span>GSI is looking to recruit...          Avukatlık   \n",
       "2  <p><strong>Genel Nitelikler Ve İş Tanımı</stro...          Avukatlık   \n",
       "\n",
       "                             Qualifications_HtmlFree  Length  Word_count  \\\n",
       "0  GENEL NİTELİKLER VE İŞ TANIMI Üniversitelerin ...     808         106   \n",
       "1  GSI is looking to recruit an associate lawyer ...    1226         168   \n",
       "2  Genel Nitelikler Ve İş Tanımı İzmir’deki hukuk...     579          72   \n",
       "\n",
       "   mean_word_length  \n",
       "0          6.632075  \n",
       "1          6.202381  \n",
       "2          7.013889  "
      ]
     },
     "execution_count": 18,
     "metadata": {},
     "output_type": "execute_result"
    }
   ],
   "source": [
    "df['mean_word_length'] = df['Qualifications_HtmlFree'].map(lambda rev: np.mean([len(word) for word in rev.split()]))\n",
    "df.head(3)"
   ]
  },
  {
   "cell_type": "code",
   "execution_count": 19,
   "id": "6120b2a2-fcbd-42ec-bb2d-9a5fc995a1fa",
   "metadata": {},
   "outputs": [
    {
     "name": "stderr",
     "output_type": "stream",
     "text": [
      "[nltk_data] Downloading package punkt to\n",
      "[nltk_data]     C:\\Users\\KARACIK\\AppData\\Roaming\\nltk_data...\n",
      "[nltk_data]   Package punkt is already up-to-date!\n"
     ]
    }
   ],
   "source": [
    "import nltk\n",
    "nltk.download('punkt')\n",
    "from nltk.tokenize import sent_tokenize\n"
   ]
  },
  {
   "cell_type": "code",
   "execution_count": 20,
   "id": "092b2f3b-36cd-49ec-85ca-bd0ae0d0a738",
   "metadata": {},
   "outputs": [
    {
     "data": {
      "text/html": [
       "<div>\n",
       "<style scoped>\n",
       "    .dataframe tbody tr th:only-of-type {\n",
       "        vertical-align: middle;\n",
       "    }\n",
       "\n",
       "    .dataframe tbody tr th {\n",
       "        vertical-align: top;\n",
       "    }\n",
       "\n",
       "    .dataframe thead th {\n",
       "        text-align: right;\n",
       "    }\n",
       "</style>\n",
       "<table border=\"1\" class=\"dataframe\">\n",
       "  <thead>\n",
       "    <tr style=\"text-align: right;\">\n",
       "      <th></th>\n",
       "      <th>JobRefNo</th>\n",
       "      <th>DigerPozisyon</th>\n",
       "      <th>Qualifications</th>\n",
       "      <th>sub-classification</th>\n",
       "      <th>Qualifications_HtmlFree</th>\n",
       "      <th>Length</th>\n",
       "      <th>Word_count</th>\n",
       "      <th>mean_word_length</th>\n",
       "      <th>mean_sent_length</th>\n",
       "    </tr>\n",
       "  </thead>\n",
       "  <tbody>\n",
       "    <tr>\n",
       "      <th>0</th>\n",
       "      <td>3463993</td>\n",
       "      <td>Avukat</td>\n",
       "      <td>&lt;p&gt;GENEL NİTELİKLER VE İŞ TANIMI&lt;/p&gt;&lt;p&gt;Ünivers...</td>\n",
       "      <td>Avukatlık</td>\n",
       "      <td>GENEL NİTELİKLER VE İŞ TANIMI Üniversitelerin ...</td>\n",
       "      <td>808</td>\n",
       "      <td>106</td>\n",
       "      <td>6.632075</td>\n",
       "      <td>808.000000</td>\n",
       "    </tr>\n",
       "    <tr>\n",
       "      <th>1</th>\n",
       "      <td>3463712</td>\n",
       "      <td>Corporate Lawyer</td>\n",
       "      <td>&lt;p&gt;&lt;span&gt;&lt;span&gt;&lt;span&gt;GSI is looking to recruit...</td>\n",
       "      <td>Avukatlık</td>\n",
       "      <td>GSI is looking to recruit an associate lawyer ...</td>\n",
       "      <td>1226</td>\n",
       "      <td>168</td>\n",
       "      <td>6.202381</td>\n",
       "      <td>80.066667</td>\n",
       "    </tr>\n",
       "    <tr>\n",
       "      <th>2</th>\n",
       "      <td>3462810</td>\n",
       "      <td>Avukat</td>\n",
       "      <td>&lt;p&gt;&lt;strong&gt;Genel Nitelikler Ve İş Tanımı&lt;/stro...</td>\n",
       "      <td>Avukatlık</td>\n",
       "      <td>Genel Nitelikler Ve İş Tanımı İzmir’deki hukuk...</td>\n",
       "      <td>579</td>\n",
       "      <td>72</td>\n",
       "      <td>7.013889</td>\n",
       "      <td>288.000000</td>\n",
       "    </tr>\n",
       "  </tbody>\n",
       "</table>\n",
       "</div>"
      ],
      "text/plain": [
       "   JobRefNo     DigerPozisyon  \\\n",
       "0   3463993            Avukat   \n",
       "1   3463712  Corporate Lawyer   \n",
       "2   3462810            Avukat   \n",
       "\n",
       "                                      Qualifications sub-classification  \\\n",
       "0  <p>GENEL NİTELİKLER VE İŞ TANIMI</p><p>Ünivers...          Avukatlık   \n",
       "1  <p><span><span><span>GSI is looking to recruit...          Avukatlık   \n",
       "2  <p><strong>Genel Nitelikler Ve İş Tanımı</stro...          Avukatlık   \n",
       "\n",
       "                             Qualifications_HtmlFree  Length  Word_count  \\\n",
       "0  GENEL NİTELİKLER VE İŞ TANIMI Üniversitelerin ...     808         106   \n",
       "1  GSI is looking to recruit an associate lawyer ...    1226         168   \n",
       "2  Genel Nitelikler Ve İş Tanımı İzmir’deki hukuk...     579          72   \n",
       "\n",
       "   mean_word_length  mean_sent_length  \n",
       "0          6.632075        808.000000  \n",
       "1          6.202381         80.066667  \n",
       "2          7.013889        288.000000  "
      ]
     },
     "execution_count": 20,
     "metadata": {},
     "output_type": "execute_result"
    }
   ],
   "source": [
    "df['mean_sent_length'] = df['Qualifications_HtmlFree'].map(lambda rev: np.mean([len(sent) for sent in sent_tokenize(rev)]))\n",
    "df.head(3)\n"
   ]
  },
  {
   "cell_type": "code",
   "execution_count": 21,
   "id": "8791e559-c884-4658-a687-a3d2c24cb71f",
   "metadata": {},
   "outputs": [],
   "source": [
    "df = df.rename(columns={'sub-classification': 'subclassification'})\n"
   ]
  },
  {
   "cell_type": "code",
   "execution_count": 22,
   "id": "700d6669-c623-4f4e-84de-817cd37f5c5e",
   "metadata": {},
   "outputs": [
    {
     "data": {
      "text/html": [
       "<div>\n",
       "<style scoped>\n",
       "    .dataframe tbody tr th:only-of-type {\n",
       "        vertical-align: middle;\n",
       "    }\n",
       "\n",
       "    .dataframe tbody tr th {\n",
       "        vertical-align: top;\n",
       "    }\n",
       "\n",
       "    .dataframe thead th {\n",
       "        text-align: right;\n",
       "    }\n",
       "</style>\n",
       "<table border=\"1\" class=\"dataframe\">\n",
       "  <thead>\n",
       "    <tr style=\"text-align: right;\">\n",
       "      <th></th>\n",
       "      <th>JobRefNo</th>\n",
       "      <th>DigerPozisyon</th>\n",
       "      <th>Qualifications</th>\n",
       "      <th>subclassification</th>\n",
       "      <th>Qualifications_HtmlFree</th>\n",
       "      <th>Length</th>\n",
       "      <th>Word_count</th>\n",
       "      <th>mean_word_length</th>\n",
       "      <th>mean_sent_length</th>\n",
       "      <th>categorical_label</th>\n",
       "    </tr>\n",
       "  </thead>\n",
       "  <tbody>\n",
       "    <tr>\n",
       "      <th>0</th>\n",
       "      <td>3463993</td>\n",
       "      <td>Avukat</td>\n",
       "      <td>&lt;p&gt;GENEL NİTELİKLER VE İŞ TANIMI&lt;/p&gt;&lt;p&gt;Ünivers...</td>\n",
       "      <td>Avukatlık</td>\n",
       "      <td>GENEL NİTELİKLER VE İŞ TANIMI Üniversitelerin ...</td>\n",
       "      <td>808</td>\n",
       "      <td>106</td>\n",
       "      <td>6.632075</td>\n",
       "      <td>808.000000</td>\n",
       "      <td>1</td>\n",
       "    </tr>\n",
       "    <tr>\n",
       "      <th>1</th>\n",
       "      <td>3463712</td>\n",
       "      <td>Corporate Lawyer</td>\n",
       "      <td>&lt;p&gt;&lt;span&gt;&lt;span&gt;&lt;span&gt;GSI is looking to recruit...</td>\n",
       "      <td>Avukatlık</td>\n",
       "      <td>GSI is looking to recruit an associate lawyer ...</td>\n",
       "      <td>1226</td>\n",
       "      <td>168</td>\n",
       "      <td>6.202381</td>\n",
       "      <td>80.066667</td>\n",
       "      <td>1</td>\n",
       "    </tr>\n",
       "  </tbody>\n",
       "</table>\n",
       "</div>"
      ],
      "text/plain": [
       "   JobRefNo     DigerPozisyon  \\\n",
       "0   3463993            Avukat   \n",
       "1   3463712  Corporate Lawyer   \n",
       "\n",
       "                                      Qualifications subclassification  \\\n",
       "0  <p>GENEL NİTELİKLER VE İŞ TANIMI</p><p>Ünivers...         Avukatlık   \n",
       "1  <p><span><span><span>GSI is looking to recruit...         Avukatlık   \n",
       "\n",
       "                             Qualifications_HtmlFree  Length  Word_count  \\\n",
       "0  GENEL NİTELİKLER VE İŞ TANIMI Üniversitelerin ...     808         106   \n",
       "1  GSI is looking to recruit an associate lawyer ...    1226         168   \n",
       "\n",
       "   mean_word_length  mean_sent_length  categorical_label  \n",
       "0          6.632075        808.000000                  1  \n",
       "1          6.202381         80.066667                  1  "
      ]
     },
     "execution_count": 22,
     "metadata": {},
     "output_type": "execute_result"
    }
   ],
   "source": [
    "from sklearn import preprocessing\n",
    "\n",
    "le = preprocessing.LabelEncoder()\n",
    "le.fit(df.subclassification)\n",
    "df['categorical_label'] = le.transform(df.subclassification)\n",
    "df['categorical_label'] = df['categorical_label'].astype(int)\n",
    "df.head(2)"
   ]
  },
  {
   "cell_type": "code",
   "execution_count": 23,
   "id": "64e4a101-b008-4de4-9899-f4eaa758e83f",
   "metadata": {},
   "outputs": [],
   "source": [
    "def clean(review):\n",
    "    \n",
    "    review = re.sub(r'(?<![a-zA-ZçÇğĞıİöÖşŞüÜ])\\w+|\\w+(?![a-zA-ZçÇğĞıİöÖşŞüÜ])', ' ', review)\n",
    "    review = review.lower()\n",
    "    review = review.replace('&nbsp;', ' ').replace('“', ' ').replace('·', ' ').replace('i̇','i')\n",
    "    review = review.replace('•', ' ').replace('\\xa0', ' ')\n",
    "    review = review.replace('”', ' ').replace('nan', '').replace('\\r', '').replace('’', ' ')\n",
    "    review = \" \".join([word for word in review.split() if word not in stopwordList])\n",
    "    \n",
    "    return review"
   ]
  },
  {
   "cell_type": "code",
   "execution_count": 24,
   "id": "9c830324-ee2b-4583-8a31-498f98f89f16",
   "metadata": {},
   "outputs": [],
   "source": [
    "def tokenize(text):\n",
    "    text = re.sub(r'http\\S+', '', text)\n",
    "    text = re.sub(r\"#(\\w+)\", '', text)\n",
    "    text = re.sub(r\"@(\\w+)\", '', text)\n",
    "    text = re.sub(r'[^\\w\\s]', '', text)\n",
    "    text = text.strip().lower()\n",
    "    text = text.replace('&nbsp;', ' ').replace('“', ' ').replace('·', ' ').replace('i̇','i')\n",
    "    text = text.replace('•', ' ').replace('\\xa0', ' ')\n",
    "    text = text.replace('”', ' ').replace('nan', '').replace('\\r', '').replace('’', ' ')\n",
    "    text = \" \".join([word for word in text.split() if word not in stopwordList])\n",
    "    return text"
   ]
  },
  {
   "cell_type": "code",
   "execution_count": 25,
   "id": "7a0395c6-6a95-4513-832c-42aa47a4cf04",
   "metadata": {},
   "outputs": [
    {
     "name": "stderr",
     "output_type": "stream",
     "text": [
      "[nltk_data] Downloading package punkt to\n",
      "[nltk_data]     C:\\Users\\KARACIK\\AppData\\Roaming\\nltk_data...\n",
      "[nltk_data]   Package punkt is already up-to-date!\n"
     ]
    },
    {
     "data": {
      "text/html": [
       "<div>\n",
       "<style scoped>\n",
       "    .dataframe tbody tr th:only-of-type {\n",
       "        vertical-align: middle;\n",
       "    }\n",
       "\n",
       "    .dataframe tbody tr th {\n",
       "        vertical-align: top;\n",
       "    }\n",
       "\n",
       "    .dataframe thead th {\n",
       "        text-align: right;\n",
       "    }\n",
       "</style>\n",
       "<table border=\"1\" class=\"dataframe\">\n",
       "  <thead>\n",
       "    <tr style=\"text-align: right;\">\n",
       "      <th></th>\n",
       "      <th>JobRefNo</th>\n",
       "      <th>DigerPozisyon</th>\n",
       "      <th>Qualifications</th>\n",
       "      <th>subclassification</th>\n",
       "      <th>Qualifications_HtmlFree</th>\n",
       "      <th>Length</th>\n",
       "      <th>Word_count</th>\n",
       "      <th>mean_word_length</th>\n",
       "      <th>mean_sent_length</th>\n",
       "      <th>categorical_label</th>\n",
       "      <th>Clean</th>\n",
       "    </tr>\n",
       "  </thead>\n",
       "  <tbody>\n",
       "    <tr>\n",
       "      <th>0</th>\n",
       "      <td>3463993</td>\n",
       "      <td>Avukat</td>\n",
       "      <td>&lt;p&gt;GENEL NİTELİKLER VE İŞ TANIMI&lt;/p&gt;&lt;p&gt;Ünivers...</td>\n",
       "      <td>Avukatlık</td>\n",
       "      <td>GENEL NİTELİKLER VE İŞ TANIMI Üniversitelerin ...</td>\n",
       "      <td>808</td>\n",
       "      <td>106</td>\n",
       "      <td>6.632075</td>\n",
       "      <td>808.000000</td>\n",
       "      <td>1</td>\n",
       "      <td>[genel, ni̇teli̇kler, i̇ş, tanimi, üniversitel...</td>\n",
       "    </tr>\n",
       "    <tr>\n",
       "      <th>1</th>\n",
       "      <td>3463712</td>\n",
       "      <td>Corporate Lawyer</td>\n",
       "      <td>&lt;p&gt;&lt;span&gt;&lt;span&gt;&lt;span&gt;GSI is looking to recruit...</td>\n",
       "      <td>Avukatlık</td>\n",
       "      <td>GSI is looking to recruit an associate lawyer ...</td>\n",
       "      <td>1226</td>\n",
       "      <td>168</td>\n",
       "      <td>6.202381</td>\n",
       "      <td>80.066667</td>\n",
       "      <td>1</td>\n",
       "      <td>[gsi, looking, recruit, associate, lawyer, joi...</td>\n",
       "    </tr>\n",
       "    <tr>\n",
       "      <th>2</th>\n",
       "      <td>3462810</td>\n",
       "      <td>Avukat</td>\n",
       "      <td>&lt;p&gt;&lt;strong&gt;Genel Nitelikler Ve İş Tanımı&lt;/stro...</td>\n",
       "      <td>Avukatlık</td>\n",
       "      <td>Genel Nitelikler Ve İş Tanımı İzmir’deki hukuk...</td>\n",
       "      <td>579</td>\n",
       "      <td>72</td>\n",
       "      <td>7.013889</td>\n",
       "      <td>288.000000</td>\n",
       "      <td>1</td>\n",
       "      <td>[genel, nitelikler, i̇ş, tanımı, i̇zmir, deki,...</td>\n",
       "    </tr>\n",
       "  </tbody>\n",
       "</table>\n",
       "</div>"
      ],
      "text/plain": [
       "   JobRefNo     DigerPozisyon  \\\n",
       "0   3463993            Avukat   \n",
       "1   3463712  Corporate Lawyer   \n",
       "2   3462810            Avukat   \n",
       "\n",
       "                                      Qualifications subclassification  \\\n",
       "0  <p>GENEL NİTELİKLER VE İŞ TANIMI</p><p>Ünivers...         Avukatlık   \n",
       "1  <p><span><span><span>GSI is looking to recruit...         Avukatlık   \n",
       "2  <p><strong>Genel Nitelikler Ve İş Tanımı</stro...         Avukatlık   \n",
       "\n",
       "                             Qualifications_HtmlFree  Length  Word_count  \\\n",
       "0  GENEL NİTELİKLER VE İŞ TANIMI Üniversitelerin ...     808         106   \n",
       "1  GSI is looking to recruit an associate lawyer ...    1226         168   \n",
       "2  Genel Nitelikler Ve İş Tanımı İzmir’deki hukuk...     579          72   \n",
       "\n",
       "   mean_word_length  mean_sent_length  categorical_label  \\\n",
       "0          6.632075        808.000000                  1   \n",
       "1          6.202381         80.066667                  1   \n",
       "2          7.013889        288.000000                  1   \n",
       "\n",
       "                                               Clean  \n",
       "0  [genel, ni̇teli̇kler, i̇ş, tanimi, üniversitel...  \n",
       "1  [gsi, looking, recruit, associate, lawyer, joi...  \n",
       "2  [genel, nitelikler, i̇ş, tanımı, i̇zmir, deki,...  "
      ]
     },
     "execution_count": 25,
     "metadata": {},
     "output_type": "execute_result"
    }
   ],
   "source": [
    "import nltk\n",
    "nltk.download('punkt')\n",
    "from nltk.tokenize import word_tokenize\n",
    "from nltk.corpus import stopwords\n",
    "\n",
    "stopwordList = set(stopwords.words('english'))\n",
    "\n",
    "def tokenize(text):\n",
    "    tokens = word_tokenize(text)\n",
    "    tokens = [token.lower() for token in tokens if token.isalpha()]\n",
    "    tokens = [token for token in tokens if token not in stopwordList]\n",
    "    return tokens\n",
    "\n",
    "df['Clean'] = df['Qualifications_HtmlFree'].apply(tokenize)\n",
    "df.head(3)\n",
    "\n"
   ]
  },
  {
   "cell_type": "code",
   "execution_count": 26,
   "id": "8c1e2543-3bcb-499e-8535-b91bfc66590c",
   "metadata": {},
   "outputs": [
    {
     "data": {
      "text/html": [
       "<div>\n",
       "<style scoped>\n",
       "    .dataframe tbody tr th:only-of-type {\n",
       "        vertical-align: middle;\n",
       "    }\n",
       "\n",
       "    .dataframe tbody tr th {\n",
       "        vertical-align: top;\n",
       "    }\n",
       "\n",
       "    .dataframe thead th {\n",
       "        text-align: right;\n",
       "    }\n",
       "</style>\n",
       "<table border=\"1\" class=\"dataframe\">\n",
       "  <thead>\n",
       "    <tr style=\"text-align: right;\">\n",
       "      <th></th>\n",
       "      <th>JobRefNo</th>\n",
       "      <th>DigerPozisyon</th>\n",
       "      <th>Qualifications</th>\n",
       "      <th>subclassification</th>\n",
       "      <th>Qualifications_HtmlFree</th>\n",
       "      <th>Length</th>\n",
       "      <th>Word_count</th>\n",
       "      <th>mean_word_length</th>\n",
       "      <th>mean_sent_length</th>\n",
       "      <th>categorical_label</th>\n",
       "      <th>Clean</th>\n",
       "    </tr>\n",
       "  </thead>\n",
       "  <tbody>\n",
       "    <tr>\n",
       "      <th>0</th>\n",
       "      <td>3463993</td>\n",
       "      <td>Avukat</td>\n",
       "      <td>&lt;p&gt;GENEL NİTELİKLER VE İŞ TANIMI&lt;/p&gt;&lt;p&gt;Ünivers...</td>\n",
       "      <td>Avukatlık</td>\n",
       "      <td>GENEL NİTELİKLER VE İŞ TANIMI Üniversitelerin ...</td>\n",
       "      <td>808</td>\n",
       "      <td>106</td>\n",
       "      <td>6.632075</td>\n",
       "      <td>808.000000</td>\n",
       "      <td>1</td>\n",
       "      <td>genel ni̇teli̇kler i̇ş tanimi üniversitelerin ...</td>\n",
       "    </tr>\n",
       "    <tr>\n",
       "      <th>1</th>\n",
       "      <td>3463712</td>\n",
       "      <td>Corporate Lawyer</td>\n",
       "      <td>&lt;p&gt;&lt;span&gt;&lt;span&gt;&lt;span&gt;GSI is looking to recruit...</td>\n",
       "      <td>Avukatlık</td>\n",
       "      <td>GSI is looking to recruit an associate lawyer ...</td>\n",
       "      <td>1226</td>\n",
       "      <td>168</td>\n",
       "      <td>6.202381</td>\n",
       "      <td>80.066667</td>\n",
       "      <td>1</td>\n",
       "      <td>gsi looking recruit associate lawyer join high...</td>\n",
       "    </tr>\n",
       "    <tr>\n",
       "      <th>2</th>\n",
       "      <td>3462810</td>\n",
       "      <td>Avukat</td>\n",
       "      <td>&lt;p&gt;&lt;strong&gt;Genel Nitelikler Ve İş Tanımı&lt;/stro...</td>\n",
       "      <td>Avukatlık</td>\n",
       "      <td>Genel Nitelikler Ve İş Tanımı İzmir’deki hukuk...</td>\n",
       "      <td>579</td>\n",
       "      <td>72</td>\n",
       "      <td>7.013889</td>\n",
       "      <td>288.000000</td>\n",
       "      <td>1</td>\n",
       "      <td>genel nitelikler i̇ş tanımı i̇zmir deki hukuk ...</td>\n",
       "    </tr>\n",
       "  </tbody>\n",
       "</table>\n",
       "</div>"
      ],
      "text/plain": [
       "   JobRefNo     DigerPozisyon  \\\n",
       "0   3463993            Avukat   \n",
       "1   3463712  Corporate Lawyer   \n",
       "2   3462810            Avukat   \n",
       "\n",
       "                                      Qualifications subclassification  \\\n",
       "0  <p>GENEL NİTELİKLER VE İŞ TANIMI</p><p>Ünivers...         Avukatlık   \n",
       "1  <p><span><span><span>GSI is looking to recruit...         Avukatlık   \n",
       "2  <p><strong>Genel Nitelikler Ve İş Tanımı</stro...         Avukatlık   \n",
       "\n",
       "                             Qualifications_HtmlFree  Length  Word_count  \\\n",
       "0  GENEL NİTELİKLER VE İŞ TANIMI Üniversitelerin ...     808         106   \n",
       "1  GSI is looking to recruit an associate lawyer ...    1226         168   \n",
       "2  Genel Nitelikler Ve İş Tanımı İzmir’deki hukuk...     579          72   \n",
       "\n",
       "   mean_word_length  mean_sent_length  categorical_label  \\\n",
       "0          6.632075        808.000000                  1   \n",
       "1          6.202381         80.066667                  1   \n",
       "2          7.013889        288.000000                  1   \n",
       "\n",
       "                                               Clean  \n",
       "0  genel ni̇teli̇kler i̇ş tanimi üniversitelerin ...  \n",
       "1  gsi looking recruit associate lawyer join high...  \n",
       "2  genel nitelikler i̇ş tanımı i̇zmir deki hukuk ...  "
      ]
     },
     "execution_count": 26,
     "metadata": {},
     "output_type": "execute_result"
    }
   ],
   "source": [
    "def corpus(text):\n",
    "    text_list = word_tokenize(text)\n",
    "    return text_list\n",
    "\n",
    "\n",
    "df['Clean'] = df['Clean'].apply(lambda x: ' '.join(x))\n",
    "\n",
    "df.head(3)\n"
   ]
  },
  {
   "cell_type": "code",
   "execution_count": 27,
   "id": "038d128e-711f-4677-bbcc-79ca0ddb7bf6",
   "metadata": {},
   "outputs": [
    {
     "data": {
      "text/html": [
       "<div>\n",
       "<style scoped>\n",
       "    .dataframe tbody tr th:only-of-type {\n",
       "        vertical-align: middle;\n",
       "    }\n",
       "\n",
       "    .dataframe tbody tr th {\n",
       "        vertical-align: top;\n",
       "    }\n",
       "\n",
       "    .dataframe thead th {\n",
       "        text-align: right;\n",
       "    }\n",
       "</style>\n",
       "<table border=\"1\" class=\"dataframe\">\n",
       "  <thead>\n",
       "    <tr style=\"text-align: right;\">\n",
       "      <th></th>\n",
       "      <th>JobRefNo</th>\n",
       "      <th>DigerPozisyon</th>\n",
       "      <th>Qualifications</th>\n",
       "      <th>subclassification</th>\n",
       "      <th>Qualifications_HtmlFree</th>\n",
       "      <th>Length</th>\n",
       "      <th>Word_count</th>\n",
       "      <th>mean_word_length</th>\n",
       "      <th>mean_sent_length</th>\n",
       "      <th>categorical_label</th>\n",
       "      <th>Clean</th>\n",
       "      <th>Clean_lists</th>\n",
       "    </tr>\n",
       "  </thead>\n",
       "  <tbody>\n",
       "    <tr>\n",
       "      <th>0</th>\n",
       "      <td>3463993</td>\n",
       "      <td>Avukat</td>\n",
       "      <td>&lt;p&gt;GENEL NİTELİKLER VE İŞ TANIMI&lt;/p&gt;&lt;p&gt;Ünivers...</td>\n",
       "      <td>Avukatlık</td>\n",
       "      <td>GENEL NİTELİKLER VE İŞ TANIMI Üniversitelerin ...</td>\n",
       "      <td>808</td>\n",
       "      <td>106</td>\n",
       "      <td>6.632075</td>\n",
       "      <td>808.000000</td>\n",
       "      <td>1</td>\n",
       "      <td>genel ni̇teli̇kler i̇ş tanimi üniversitelerin ...</td>\n",
       "      <td>[genel, ni̇teli̇kler, i̇ş, tanimi, üniversitel...</td>\n",
       "    </tr>\n",
       "    <tr>\n",
       "      <th>1</th>\n",
       "      <td>3463712</td>\n",
       "      <td>Corporate Lawyer</td>\n",
       "      <td>&lt;p&gt;&lt;span&gt;&lt;span&gt;&lt;span&gt;GSI is looking to recruit...</td>\n",
       "      <td>Avukatlık</td>\n",
       "      <td>GSI is looking to recruit an associate lawyer ...</td>\n",
       "      <td>1226</td>\n",
       "      <td>168</td>\n",
       "      <td>6.202381</td>\n",
       "      <td>80.066667</td>\n",
       "      <td>1</td>\n",
       "      <td>gsi looking recruit associate lawyer join high...</td>\n",
       "      <td>[gsi, looking, recruit, associate, lawyer, joi...</td>\n",
       "    </tr>\n",
       "    <tr>\n",
       "      <th>2</th>\n",
       "      <td>3462810</td>\n",
       "      <td>Avukat</td>\n",
       "      <td>&lt;p&gt;&lt;strong&gt;Genel Nitelikler Ve İş Tanımı&lt;/stro...</td>\n",
       "      <td>Avukatlık</td>\n",
       "      <td>Genel Nitelikler Ve İş Tanımı İzmir’deki hukuk...</td>\n",
       "      <td>579</td>\n",
       "      <td>72</td>\n",
       "      <td>7.013889</td>\n",
       "      <td>288.000000</td>\n",
       "      <td>1</td>\n",
       "      <td>genel nitelikler i̇ş tanımı i̇zmir deki hukuk ...</td>\n",
       "      <td>[genel, nitelikler, i̇ş, tanımı, i̇zmir, deki,...</td>\n",
       "    </tr>\n",
       "  </tbody>\n",
       "</table>\n",
       "</div>"
      ],
      "text/plain": [
       "   JobRefNo     DigerPozisyon  \\\n",
       "0   3463993            Avukat   \n",
       "1   3463712  Corporate Lawyer   \n",
       "2   3462810            Avukat   \n",
       "\n",
       "                                      Qualifications subclassification  \\\n",
       "0  <p>GENEL NİTELİKLER VE İŞ TANIMI</p><p>Ünivers...         Avukatlık   \n",
       "1  <p><span><span><span>GSI is looking to recruit...         Avukatlık   \n",
       "2  <p><strong>Genel Nitelikler Ve İş Tanımı</stro...         Avukatlık   \n",
       "\n",
       "                             Qualifications_HtmlFree  Length  Word_count  \\\n",
       "0  GENEL NİTELİKLER VE İŞ TANIMI Üniversitelerin ...     808         106   \n",
       "1  GSI is looking to recruit an associate lawyer ...    1226         168   \n",
       "2  Genel Nitelikler Ve İş Tanımı İzmir’deki hukuk...     579          72   \n",
       "\n",
       "   mean_word_length  mean_sent_length  categorical_label  \\\n",
       "0          6.632075        808.000000                  1   \n",
       "1          6.202381         80.066667                  1   \n",
       "2          7.013889        288.000000                  1   \n",
       "\n",
       "                                               Clean  \\\n",
       "0  genel ni̇teli̇kler i̇ş tanimi üniversitelerin ...   \n",
       "1  gsi looking recruit associate lawyer join high...   \n",
       "2  genel nitelikler i̇ş tanımı i̇zmir deki hukuk ...   \n",
       "\n",
       "                                         Clean_lists  \n",
       "0  [genel, ni̇teli̇kler, i̇ş, tanimi, üniversitel...  \n",
       "1  [gsi, looking, recruit, associate, lawyer, joi...  \n",
       "2  [genel, nitelikler, i̇ş, tanımı, i̇zmir, deki,...  "
      ]
     },
     "execution_count": 27,
     "metadata": {},
     "output_type": "execute_result"
    }
   ],
   "source": [
    "df['Clean_lists'] = df['Clean'].apply(corpus)\n",
    "df.head(3)"
   ]
  },
  {
   "cell_type": "code",
   "execution_count": 28,
   "id": "fcb528d5-be67-4177-92c5-920499b69a39",
   "metadata": {},
   "outputs": [],
   "source": [
    "from sklearn.feature_extraction.text import TfidfVectorizer\n",
    "from sklearn.feature_selection import SelectKBest\n",
    "from sklearn.feature_selection import f_classif\n",
    "\n",
    "\n",
    "def ngram_vectorize(train_texts, train_labels, val_texts, NGRAM_RANGE = (1, 2),TOP_K = 20000\n",
    "                    ,TOKEN_MODE = 'word',MIN_DOCUMENT_FREQUENCY = 2, vForm = 'tfidf'):\n",
    "\n",
    "    kwargs = {\n",
    "            'ngram_range': NGRAM_RANGE,  # Use 1-grams + 2-grams.\n",
    "            'dtype': 'int32',\n",
    "            'strip_accents': 'unicode',\n",
    "            'decode_error': 'replace',\n",
    "            'analyzer': TOKEN_MODE,  # Split text into word tokens.\n",
    "            'min_df': MIN_DOCUMENT_FREQUENCY,\n",
    "    }\n",
    "\n",
    "    if vForm == 'tfidf':\n",
    "        vectorizer = TfidfVectorizer(**kwargs)\n",
    "    elif vForm == 'count':\n",
    "        vectorizer = CountVectorizer(**kwargs) \n",
    "    else:\n",
    "        print('Invalid vectorization form')\n",
    "        return\n",
    "\n",
    "   \n",
    "    x_train = vectorizer.fit_transform(train_texts)\n",
    "\n",
    "  \n",
    "    x_val = vectorizer.transform(val_texts)\n",
    "\n",
    "   \n",
    "    selector = SelectKBest(f_classif, k=min(TOP_K, x_train.shape[1]))\n",
    "    selector.fit(x_train, train_labels)\n",
    "    x_train = selector.transform(x_train).astype('float32')\n",
    "    x_val = selector.transform(x_val).astype('float32')\n",
    "    return x_train, x_val,vectorizer"
   ]
  },
  {
   "cell_type": "code",
   "execution_count": 29,
   "id": "d3e2b1bf-968f-4d3a-9b34-f733a8469d37",
   "metadata": {},
   "outputs": [],
   "source": [
    "from sklearn.feature_extraction.text import CountVectorizer\n",
    "from sklearn.model_selection import train_test_split\n",
    "from sklearn.feature_extraction.text import TfidfVectorizer\n",
    "from sklearn import preprocessing, decomposition, model_selection, metrics, pipeline\n",
    "from sklearn.metrics import accuracy_score, auc, roc_auc_score\n",
    "import xgboost as xgb"
   ]
  },
  {
   "cell_type": "code",
   "execution_count": 30,
   "id": "ad59a18e-9ed5-4466-947c-55f799888f01",
   "metadata": {},
   "outputs": [
    {
     "name": "stdout",
     "output_type": "stream",
     "text": [
      "(2250,) (250,) (2250,) (250,)\n"
     ]
    }
   ],
   "source": [
    "from sklearn.model_selection import train_test_split\n",
    "from collections import Counter\n",
    "\n",
    "class_counts = Counter(df['categorical_label'])\n",
    "stratify_list = [class_counts[y] if class_counts[y] >= 2 else None for y in df['categorical_label']]\n",
    "\n",
    "x_train, x_test, y_train, y_test, indices_train, indices_test = train_test_split(df['Clean'], \n",
    "                                                    df['categorical_label'], \n",
    "                                                    df.index,\n",
    "                                                    test_size=0.1, \n",
    "                                                    random_state=42)\n",
    "\n",
    "\n",
    "print(x_train.shape, x_test.shape, y_train.shape, y_test.shape)\n",
    "\n",
    "\n",
    "\n"
   ]
  },
  {
   "cell_type": "code",
   "execution_count": 31,
   "id": "1172c388-a444-4e5e-8160-54d944bfa7d6",
   "metadata": {},
   "outputs": [
    {
     "name": "stderr",
     "output_type": "stream",
     "text": [
      "C:\\Users\\KARACIK\\anaconda3\\lib\\site-packages\\sklearn\\feature_extraction\\text.py:2070: UserWarning: Only (<class 'numpy.float64'>, <class 'numpy.float32'>, <class 'numpy.float16'>) 'dtype' should be used. int32 'dtype' will be converted to np.float64.\n",
      "  warnings.warn(\n"
     ]
    }
   ],
   "source": [
    "xtrain_tfv,xvalid_tfv,vectorizer = ngram_vectorize(x_train, y_train, x_test, vForm = 'tfidf',  NGRAM_RANGE = (1, 2),\n",
    "                                        TOP_K = 20000, TOKEN_MODE = 'word',MIN_DOCUMENT_FREQUENCY = 2)"
   ]
  },
  {
   "cell_type": "code",
   "execution_count": 32,
   "id": "1ad7c3fa-e4f5-40ea-bc8d-66d285ce677d",
   "metadata": {},
   "outputs": [
    {
     "data": {
      "text/plain": [
       "False"
      ]
     },
     "execution_count": 32,
     "metadata": {},
     "output_type": "execute_result"
    }
   ],
   "source": [
    "df.isnull().values.any()"
   ]
  },
  {
   "cell_type": "code",
   "execution_count": 33,
   "id": "492267aa-f638-4966-b5c8-9580efeb49be",
   "metadata": {},
   "outputs": [
    {
     "data": {
      "text/html": [
       "<div>\n",
       "<style scoped>\n",
       "    .dataframe tbody tr th:only-of-type {\n",
       "        vertical-align: middle;\n",
       "    }\n",
       "\n",
       "    .dataframe tbody tr th {\n",
       "        vertical-align: top;\n",
       "    }\n",
       "\n",
       "    .dataframe thead th {\n",
       "        text-align: right;\n",
       "    }\n",
       "</style>\n",
       "<table border=\"1\" class=\"dataframe\">\n",
       "  <thead>\n",
       "    <tr style=\"text-align: right;\">\n",
       "      <th></th>\n",
       "      <th>JobRefNo</th>\n",
       "      <th>DigerPozisyon</th>\n",
       "      <th>Qualifications</th>\n",
       "      <th>subclassification</th>\n",
       "      <th>Qualifications_HtmlFree</th>\n",
       "      <th>Length</th>\n",
       "      <th>Word_count</th>\n",
       "      <th>mean_word_length</th>\n",
       "      <th>mean_sent_length</th>\n",
       "      <th>categorical_label</th>\n",
       "      <th>Clean</th>\n",
       "      <th>Clean_lists</th>\n",
       "    </tr>\n",
       "  </thead>\n",
       "  <tbody>\n",
       "  </tbody>\n",
       "</table>\n",
       "</div>"
      ],
      "text/plain": [
       "Empty DataFrame\n",
       "Columns: [JobRefNo, DigerPozisyon, Qualifications, subclassification, Qualifications_HtmlFree, Length, Word_count, mean_word_length, mean_sent_length, categorical_label, Clean, Clean_lists]\n",
       "Index: []"
      ]
     },
     "execution_count": 33,
     "metadata": {},
     "output_type": "execute_result"
    }
   ],
   "source": [
    "df[df['categorical_label'].isnull()]"
   ]
  },
  {
   "cell_type": "code",
   "execution_count": 34,
   "id": "41db5e98-7aa0-48c7-9766-edb598c6eb96",
   "metadata": {},
   "outputs": [],
   "source": [
    "from sklearn.decomposition import TruncatedSVD\n",
    "from sklearn.linear_model import LogisticRegression\n",
    "from sklearn.model_selection import train_test_split\n",
    "from sklearn.naive_bayes import MultinomialNB\n",
    "from sklearn.model_selection import GridSearchCV \n",
    "from sklearn.svm import SVC\n",
    "from sklearn.metrics import roc_auc_score"
   ]
  },
  {
   "cell_type": "code",
   "execution_count": 35,
   "id": "948d019e-f526-4845-a0cf-044cc2973815",
   "metadata": {},
   "outputs": [
    {
     "name": "stderr",
     "output_type": "stream",
     "text": [
      "[Parallel(n_jobs=1)]: Using backend SequentialBackend with 1 concurrent workers.\n"
     ]
    },
    {
     "name": "stdout",
     "output_type": "stream",
     "text": [
      "convergence after 45 epochs took 2 seconds\n"
     ]
    },
    {
     "name": "stderr",
     "output_type": "stream",
     "text": [
      "[Parallel(n_jobs=1)]: Done   1 out of   1 | elapsed:    1.8s finished\n"
     ]
    }
   ],
   "source": [
    "lr_word = LogisticRegression(solver='sag', verbose=1)\n",
    "lr_word.fit(xtrain_tfv, y_train)\n",
    "y_pred_word = lr_word.predict(xvalid_tfv)\n",
    "LR_results=accuracy_score(y_test, y_pred_word)\n",
    "results = {'LR_TfIDF_unigram': LR_results} "
   ]
  },
  {
   "cell_type": "code",
   "execution_count": 36,
   "id": "5b864446-87bb-423c-b789-2d4ac72eb717",
   "metadata": {},
   "outputs": [
    {
     "data": {
      "text/plain": [
       "{'LR_TfIDF_unigram': 0.752}"
      ]
     },
     "execution_count": 36,
     "metadata": {},
     "output_type": "execute_result"
    }
   ],
   "source": [
    "results"
   ]
  },
  {
   "cell_type": "code",
   "execution_count": 37,
   "id": "7208d3a8-2b9a-41b5-aaad-8ccf55ae0d59",
   "metadata": {},
   "outputs": [
    {
     "data": {
      "text/plain": [
       "Index(['JobRefNo', 'DigerPozisyon', 'Qualifications', 'subclassification',\n",
       "       'Qualifications_HtmlFree', 'Length', 'Word_count', 'mean_word_length',\n",
       "       'mean_sent_length', 'categorical_label', 'Clean', 'Clean_lists'],\n",
       "      dtype='object')"
      ]
     },
     "execution_count": 37,
     "metadata": {},
     "output_type": "execute_result"
    }
   ],
   "source": [
    "df.columns"
   ]
  },
  {
   "cell_type": "code",
   "execution_count": 38,
   "id": "6d90ab47-3ecb-4374-9ccf-28f66b000887",
   "metadata": {},
   "outputs": [
    {
     "name": "stderr",
     "output_type": "stream",
     "text": [
      "C:\\Users\\KARACIK\\anaconda3\\lib\\site-packages\\sklearn\\feature_extraction\\text.py:2070: UserWarning: Only (<class 'numpy.float64'>, <class 'numpy.float32'>, <class 'numpy.float16'>) 'dtype' should be used. int32 'dtype' will be converted to np.float64.\n",
      "  warnings.warn(\n",
      "[Parallel(n_jobs=1)]: Using backend SequentialBackend with 1 concurrent workers.\n"
     ]
    },
    {
     "name": "stdout",
     "output_type": "stream",
     "text": [
      "convergence after 46 epochs took 1 seconds\n"
     ]
    },
    {
     "name": "stderr",
     "output_type": "stream",
     "text": [
      "[Parallel(n_jobs=1)]: Done   1 out of   1 | elapsed:    1.1s finished\n"
     ]
    }
   ],
   "source": [
    "ngram_vectorize_output = ngram_vectorize(x_train, y_train, x_test, vForm='count', NGRAM_RANGE=(1,3), \n",
    "                                         TOP_K=20000, TOKEN_MODE='word', MIN_DOCUMENT_FREQUENCY=2)\n",
    "xtrain_tfv, xvalid_tfv, feature_names = ngram_vectorize(x_train, y_train, x_test, vForm='tfidf')\n",
    "lr_word.fit(xtrain_tfv, y_train)\n",
    "y_pred_word = lr_word.predict(xvalid_tfv)\n",
    "LR_results = accuracy_score(y_test, y_pred_word)\n",
    "results['LR_CountV_trigram'] = LR_results\n"
   ]
  },
  {
   "cell_type": "code",
   "execution_count": 39,
   "id": "c7874e18-2450-4b55-a336-f54efc6b3614",
   "metadata": {},
   "outputs": [
    {
     "data": {
      "text/plain": [
       "{'LR_TfIDF_unigram': 0.752, 'LR_CountV_trigram': 0.752}"
      ]
     },
     "execution_count": 39,
     "metadata": {},
     "output_type": "execute_result"
    }
   ],
   "source": [
    "results"
   ]
  },
  {
   "cell_type": "code",
   "execution_count": 40,
   "id": "982fa291-6aa6-4c49-b5be-3e92227b040c",
   "metadata": {},
   "outputs": [
    {
     "name": "stderr",
     "output_type": "stream",
     "text": [
      "C:\\Users\\KARACIK\\anaconda3\\lib\\site-packages\\sklearn\\feature_extraction\\text.py:2070: UserWarning: Only (<class 'numpy.float64'>, <class 'numpy.float32'>, <class 'numpy.float16'>) 'dtype' should be used. int32 'dtype' will be converted to np.float64.\n",
      "  warnings.warn(\n"
     ]
    }
   ],
   "source": [
    "xtrain_tfv,xvalid_tfv,vectorizer = ngram_vectorize(x_train, y_train, x_test, vForm = 'tfidf',  NGRAM_RANGE = (1, 1),\n",
    "                                        TOP_K = 20000, TOKEN_MODE = 'word',MIN_DOCUMENT_FREQUENCY = 2)\n",
    "clf = xgb.XGBClassifier(max_depth=7, n_estimators=200, colsample_bytree=0.8, \n",
    "                        subsample=0.8, nthread=10, learning_rate=0.1)\n",
    "clf.fit(xtrain_tfv.tocsc(), y_train)\n",
    "y_pred_word = clf.predict(xvalid_tfv.tocsc())\n",
    "LR_results=accuracy_score(y_test, y_pred_word)\n",
    "results ['XGB_TfIdf_uni']= LR_results\n"
   ]
  },
  {
   "cell_type": "code",
   "execution_count": 41,
   "id": "fb5c77dc-2c76-476c-b746-550a09549e64",
   "metadata": {},
   "outputs": [
    {
     "data": {
      "text/plain": [
       "{'LR_TfIDF_unigram': 0.752, 'LR_CountV_trigram': 0.752, 'XGB_TfIdf_uni': 0.852}"
      ]
     },
     "execution_count": 41,
     "metadata": {},
     "output_type": "execute_result"
    }
   ],
   "source": [
    "results"
   ]
  }
 ],
 "metadata": {
  "kernelspec": {
   "display_name": "Python 3 (ipykernel)",
   "language": "python",
   "name": "python3"
  },
  "language_info": {
   "codemirror_mode": {
    "name": "ipython",
    "version": 3
   },
   "file_extension": ".py",
   "mimetype": "text/x-python",
   "name": "python",
   "nbconvert_exporter": "python",
   "pygments_lexer": "ipython3",
   "version": "3.10.9"
  }
 },
 "nbformat": 4,
 "nbformat_minor": 5
}
